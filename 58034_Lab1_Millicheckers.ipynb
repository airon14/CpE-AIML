{
  "nbformat": 4,
  "nbformat_minor": 0,
  "metadata": {
    "colab": {
      "name": "58034_Lab1_Millicheckers.ipynb",
      "provenance": [],
      "collapsed_sections": [],
      "include_colab_link": true
    },
    "kernelspec": {
      "name": "python3",
      "display_name": "Python 3"
    },
    "language_info": {
      "name": "python"
    }
  },
  "cells": [
    {
      "cell_type": "markdown",
      "metadata": {
        "id": "view-in-github",
        "colab_type": "text"
      },
      "source": [
        "<a href=\"https://colab.research.google.com/github/airon14/CpE-AIML/blob/main/58034_Lab1_Millicheckers.ipynb\" target=\"_parent\"><img src=\"https://colab.research.google.com/assets/colab-badge.svg\" alt=\"Open In Colab\"/></a>"
      ]
    },
    {
      "cell_type": "markdown",
      "metadata": {
        "id": "Ob49EcB9H7h2"
      },
      "source": [
        "# Topic 01: Software Engineering Concepts Review\n",
        "$_{\\text{©D.J. Lopez | 2021 | Fudamentals of Machine Learning}}$\n",
        "\n",
        "Data Science or Machine Learning is more than math or business application. It is also important to remember that AI, ML, or DS are being integrated into industry and companies for product delivery. So it is important to keep code clean, manage your files properly, and also assure readability for your projects and their codes.\n",
        "This module is dedicated to reviewing the concepts of software engineering and integrating their concepts in Machine Learning programming. For this notebook we will be covering:\n",
        "* Modular Programming\n",
        "* Object-oriented Programming Concepts\n",
        "* Documentation\n",
        "* Version Control\t\n"
      ]
    },
    {
      "cell_type": "markdown",
      "metadata": {
        "id": "7t8h1u-2KPlN"
      },
      "source": [
        "# 1. Modular Programming\n",
        "Creating readable and understandable code is needed in the industry or any project that you might do. It does not just benefit yourself in understanding your code or project but also other teams, users, and even future researchers. In this module, we are going to discuss how to format your projects and codes for readability and understandability. One of the techniques to achieve this is through modular programming.\n",
        "\n",
        "The idea of modular programming is to make your code granular for reusability. It does not only makes your code simpler but also optimal. The goal of making your code more efficient does not only look into visual representation but also its optimization.\n"
      ]
    },
    {
      "cell_type": "markdown",
      "metadata": {
        "id": "qnV_a_1ossnR"
      },
      "source": [
        "## 1.1 Refactoring\n",
        "\n",
        "Refactoring your code means restructuring your code without changing the expected output. We consider code refactoring while optimizing our code in terms of naming or even in optimizing methods. The first activity of refactoring that we will do or consider is renaming and the other is \"functionizing\" your code. "
      ]
    },
    {
      "cell_type": "markdown",
      "metadata": {
        "id": "9byGZ0_WsyTg"
      },
      "source": [
        "### *Renaming*"
      ]
    },
    {
      "cell_type": "markdown",
      "metadata": {
        "id": "TsyGtv7wtGJp"
      },
      "source": [
        "You might think discussing this topic must be pointless or too simplistic but it is actually one of the most frequent mistakes that data scientists, professors, or researchers usually do. Naming variables and functions properly will bring clarity to understanding the code."
      ]
    },
    {
      "cell_type": "code",
      "metadata": {
        "id": "AzqU8FaqtFQI"
      },
      "source": [
        "'''\n",
        "    CASE 1: Setting the class grades.\n",
        "\n",
        "    The case for this section would be computing for the grades of a \n",
        "    certain class. For the next cells will be looking in how can we create a \n",
        "    class analytics implementation.\n",
        "'''\n",
        "### Example of bad naming in module import nicknames.\n",
        "### Nicknames should be short and still relevant to the module.\n",
        "\n",
        "# import pandas as food_panda \n",
        "## bad, since not representative and long\n",
        "#import pandas as nd \n",
        "##bad, although short it is not representative\n",
        "import pandas as pd \n",
        "##good, aside form community acceptance it is short and representative\n",
        "\n",
        "ln = [\"Ingles\", \"Español\", \"Cruz\", \"Jones\"]\n",
        "# bad, since \"ln\" is ambiguous.\n",
        "\n",
        "names = [\"Ingles\", \"Español\", \"Cruz\", \"Jones\"] \n",
        "# good, since descriptive\n",
        "\n",
        "lnames = [\"Ingles\", \"Español\", \"Cruz\", \"Jones\"]\n",
        "# better, more specific that itis about last names\n",
        "\n",
        "last_names_of_the_class = [\"Ingles\", \"Español\", \"Cruz\", \"Jones\"] \n",
        "# bad, too long\n"
      ],
      "execution_count": null,
      "outputs": []
    },
    {
      "cell_type": "markdown",
      "metadata": {
        "id": "w9_g4Wq4RXgi"
      },
      "source": [
        "### Task 1: Setting the Class Grades\n",
        "1. Create variable declarations for:\n",
        "        - Last Names\n",
        "        - First Names\n",
        "        - Grades for Prelims\n",
        "        - Grades for Midterms\n",
        "        - Grades for Finals \n",
        "2. Create a DataFrame (Pandas) for consolidating the data from Task 1.1"
      ]
    },
    {
      "cell_type": "code",
      "metadata": {
        "id": "-grA0uH6yuwl",
        "colab": {
          "base_uri": "https://localhost:8080/",
          "height": 175
        },
        "outputId": "5dbe8a41-88ff-4e40-92a9-b8d0bb19adeb"
      },
      "source": [
        "### CODE HERE ###\n",
        "import pandas as pd\n",
        "import scipy.stats\n",
        "student_no=[201823121,201811123,201822234,201812345]\n",
        "lnames = [\"Dusaran\", \"Lacsi\", \"Manalo\", \"Garcia\"]\n",
        "fnames = [\"Jeric\", \"Humbert\", \"Airon\" , \"Christian\"]\n",
        "prlm_grd = [80, 85, 80, 95]\n",
        "mdtrm_grd = [85, 75, 80, 85]\n",
        "fnls_grd = [90, 95, 90, 95]\n",
        "\n",
        "class_record = list(zip(student_no,lnames,fnames, prlm_grd, mdtrm_grd, fnls_grd))\n",
        "class_record_df = pd.DataFrame(class_record, columns = ['Student_Number','Last_Name','First_Name','Prelim_Grade','Midterm_Grade','Final_Grade'])\n",
        "class_record_df"
      ],
      "execution_count": 12,
      "outputs": [
        {
          "output_type": "execute_result",
          "data": {
            "text/html": [
              "<div>\n",
              "<style scoped>\n",
              "    .dataframe tbody tr th:only-of-type {\n",
              "        vertical-align: middle;\n",
              "    }\n",
              "\n",
              "    .dataframe tbody tr th {\n",
              "        vertical-align: top;\n",
              "    }\n",
              "\n",
              "    .dataframe thead th {\n",
              "        text-align: right;\n",
              "    }\n",
              "</style>\n",
              "<table border=\"1\" class=\"dataframe\">\n",
              "  <thead>\n",
              "    <tr style=\"text-align: right;\">\n",
              "      <th></th>\n",
              "      <th>Student_Number</th>\n",
              "      <th>Last_Name</th>\n",
              "      <th>First_Name</th>\n",
              "      <th>Prelim_Grade</th>\n",
              "      <th>Midterm_Grade</th>\n",
              "      <th>Final_Grade</th>\n",
              "    </tr>\n",
              "  </thead>\n",
              "  <tbody>\n",
              "    <tr>\n",
              "      <th>0</th>\n",
              "      <td>201823121</td>\n",
              "      <td>Dusaran</td>\n",
              "      <td>Jeric</td>\n",
              "      <td>80</td>\n",
              "      <td>85</td>\n",
              "      <td>90</td>\n",
              "    </tr>\n",
              "    <tr>\n",
              "      <th>1</th>\n",
              "      <td>201811123</td>\n",
              "      <td>Lacsi</td>\n",
              "      <td>Humbert</td>\n",
              "      <td>85</td>\n",
              "      <td>75</td>\n",
              "      <td>95</td>\n",
              "    </tr>\n",
              "    <tr>\n",
              "      <th>2</th>\n",
              "      <td>201822234</td>\n",
              "      <td>Manalo</td>\n",
              "      <td>Airon</td>\n",
              "      <td>80</td>\n",
              "      <td>80</td>\n",
              "      <td>90</td>\n",
              "    </tr>\n",
              "    <tr>\n",
              "      <th>3</th>\n",
              "      <td>201812345</td>\n",
              "      <td>Garcia</td>\n",
              "      <td>Christian</td>\n",
              "      <td>95</td>\n",
              "      <td>85</td>\n",
              "      <td>95</td>\n",
              "    </tr>\n",
              "  </tbody>\n",
              "</table>\n",
              "</div>"
            ],
            "text/plain": [
              "   Student_Number Last_Name  ... Midterm_Grade  Final_Grade\n",
              "0       201823121   Dusaran  ...            85           90\n",
              "1       201811123     Lacsi  ...            75           95\n",
              "2       201822234    Manalo  ...            80           90\n",
              "3       201812345    Garcia  ...            85           95\n",
              "\n",
              "[4 rows x 6 columns]"
            ]
          },
          "metadata": {},
          "execution_count": 12
        }
      ]
    },
    {
      "cell_type": "code",
      "metadata": {
        "colab": {
          "base_uri": "https://localhost:8080/",
          "height": 175
        },
        "id": "RepTHTNuLnw9",
        "outputId": "1ec4d3e2-2909-4b4a-d29d-ca5b27219c80"
      },
      "source": [
        "import pandas as pd\n",
        "import scipy.stats as stats\n",
        "student_no=[201823122,201811153,201822231,201812342]\n",
        "lnames = [\"Dusaran\", \"Lacsi\", \"Manalo\", \"Garcia\"]\n",
        "fnames = [\"Jeric\", \"Humbert\", \"Airon\" , \"Christian\"]\n",
        "prlm_grd = [80, 85, 80, 95]\n",
        "mdtrm_grd = [85, 75, 80, 85]\n",
        "fnls_grd = [90, 95, 90, 95]\n",
        "\n",
        "class_record_1 = list(zip(student_no,lnames,fnames, prlm_grd, mdtrm_grd, fnls_grd))\n",
        "class_record_1_df = pd.DataFrame(class_record, columns = ['Student_Number','Last_Name','First_Name','Prelim_Grade','Midterm_Grade','Final_Grade'])\n",
        "class_record_1_df"
      ],
      "execution_count": 13,
      "outputs": [
        {
          "output_type": "execute_result",
          "data": {
            "text/html": [
              "<div>\n",
              "<style scoped>\n",
              "    .dataframe tbody tr th:only-of-type {\n",
              "        vertical-align: middle;\n",
              "    }\n",
              "\n",
              "    .dataframe tbody tr th {\n",
              "        vertical-align: top;\n",
              "    }\n",
              "\n",
              "    .dataframe thead th {\n",
              "        text-align: right;\n",
              "    }\n",
              "</style>\n",
              "<table border=\"1\" class=\"dataframe\">\n",
              "  <thead>\n",
              "    <tr style=\"text-align: right;\">\n",
              "      <th></th>\n",
              "      <th>Student_Number</th>\n",
              "      <th>Last_Name</th>\n",
              "      <th>First_Name</th>\n",
              "      <th>Prelim_Grade</th>\n",
              "      <th>Midterm_Grade</th>\n",
              "      <th>Final_Grade</th>\n",
              "    </tr>\n",
              "  </thead>\n",
              "  <tbody>\n",
              "    <tr>\n",
              "      <th>0</th>\n",
              "      <td>201823121</td>\n",
              "      <td>Dusaran</td>\n",
              "      <td>Jeric</td>\n",
              "      <td>80</td>\n",
              "      <td>85</td>\n",
              "      <td>90</td>\n",
              "    </tr>\n",
              "    <tr>\n",
              "      <th>1</th>\n",
              "      <td>201811123</td>\n",
              "      <td>Lacsi</td>\n",
              "      <td>Humbert</td>\n",
              "      <td>85</td>\n",
              "      <td>75</td>\n",
              "      <td>95</td>\n",
              "    </tr>\n",
              "    <tr>\n",
              "      <th>2</th>\n",
              "      <td>201822234</td>\n",
              "      <td>Manalo</td>\n",
              "      <td>Airon</td>\n",
              "      <td>80</td>\n",
              "      <td>80</td>\n",
              "      <td>90</td>\n",
              "    </tr>\n",
              "    <tr>\n",
              "      <th>3</th>\n",
              "      <td>201812345</td>\n",
              "      <td>Garcia</td>\n",
              "      <td>Christian</td>\n",
              "      <td>95</td>\n",
              "      <td>85</td>\n",
              "      <td>95</td>\n",
              "    </tr>\n",
              "  </tbody>\n",
              "</table>\n",
              "</div>"
            ],
            "text/plain": [
              "   Student_Number Last_Name  ... Midterm_Grade  Final_Grade\n",
              "0       201823121   Dusaran  ...            85           90\n",
              "1       201811123     Lacsi  ...            75           95\n",
              "2       201822234    Manalo  ...            80           90\n",
              "3       201812345    Garcia  ...            85           95\n",
              "\n",
              "[4 rows x 6 columns]"
            ]
          },
          "metadata": {},
          "execution_count": 13
        }
      ]
    },
    {
      "cell_type": "markdown",
      "metadata": {
        "id": "0pr8y4LUs2Vg"
      },
      "source": [
        "### *Code Reusability*\n",
        "\n",
        "Just like in any writing we want to reduce redundancies in our content. Just like following the rules of brevity we also consider that in creating cleaner code. One way of applying brevity to code is code reusability wherein you refrain from creating code that you repeat in encoding. This is where the use of functions will be most used. Consider the following code below."
      ]
    },
    {
      "cell_type": "code",
      "metadata": {
        "id": "mC9I6ZnhAKNC"
      },
      "source": [
        "'''\n",
        "    CASE 2: Computing grades.\n",
        "\n",
        "    For this cell we are going to look into creating functions for the class.\n",
        "    This includes computing for their grades and some classroom management\n",
        "    routines.\n",
        "'''\n",
        "### Consider this procedural programming script\n",
        "gs_1 = [89.4, 78.2, 88.0, 28.5, 67.3]\n",
        "# Get average grades of the class\n",
        "class_g = 0\n",
        "for g in gs_1:\n",
        "  class_g += g\n",
        "cmean = class_g/len(gs_1)\n",
        "print(cmean)"
      ],
      "execution_count": null,
      "outputs": []
    },
    {
      "cell_type": "code",
      "metadata": {
        "colab": {
          "base_uri": "https://localhost:8080/"
        },
        "id": "_SSjhGSM-iLM",
        "outputId": "534560de-fb1d-457f-aae4-6c96a8a01d5e"
      },
      "source": [
        "### Now let's say you want to reuse the code above for a different class\n",
        "### you might just copy and paste in like the code below and change some \n",
        "### variable naming\n",
        "\n",
        "gs_2 = [99.4, 64.5, 87.2, 68.5, 57.]\n",
        "# Get average grades of the class\n",
        "class_g = 0\n",
        "for g in gs_2:\n",
        "  class_g += g\n",
        "cmean = class_g/len(gs_2)\n",
        "print(cmean)"
      ],
      "execution_count": null,
      "outputs": [
        {
          "output_type": "stream",
          "text": [
            "75.34\n"
          ],
          "name": "stdout"
        }
      ]
    },
    {
      "cell_type": "code",
      "metadata": {
        "id": "zsfe5hrl-5Dj"
      },
      "source": [
        "### That works but if you keep doing that for production, it would just look\n",
        "### like spaghetti code. Instead, if you are repeating code, consider creating\n",
        "### a function.\n",
        "\n",
        "def average(grades):\n",
        "  grades_class = 0\n",
        "  for g in grades:\n",
        "    grades_class += g\n",
        "  avg = grades_class/len(grades)\n",
        "  return avg\n"
      ],
      "execution_count": null,
      "outputs": []
    },
    {
      "cell_type": "code",
      "metadata": {
        "id": "cM06F8qkAkwz"
      },
      "source": [
        "### The code above would be reusable but it is not easy to read. We need to \n",
        "### enforce the code refactoring for renaming not just the variables but also\n",
        "### the functions we are creating. So if we would refactor the 'average' \n",
        "### Function earlier it could be:\n",
        "\n",
        "def get_class_ave(arr):\n",
        "  class_grades = 0\n",
        "  for grade in arr:\n",
        "    class_grades += grade\n",
        "  class_avg = class_grades/len(arr)\n",
        "  return class_avg"
      ],
      "execution_count": null,
      "outputs": []
    },
    {
      "cell_type": "markdown",
      "metadata": {
        "id": "QZWa_LNqRVOJ"
      },
      "source": [
        "### Task 2: Getting Class Statistics\n",
        "1. Create a function named `get_grades()` for computing the semestral grade of each student:\n",
        "\n",
        "  `inputs`: `DataFrame` of a class grade sheet.\n",
        "  \n",
        "  `outpus`: `DataFrame` showing:\n",
        "  * The prelim, midterms, and finals grades of each student\n",
        "  * The semestral grade of each student\n",
        "\n",
        "2. Create a function named `get_class_stats()`.\n",
        "  \n",
        "  `inputs`: `DataFrame` from `get_grades()`.\n",
        "  \n",
        "  `outpus`: `DataFrame` showing:\n",
        "  * The lowest and highest prelim, midterm, finals, and semestral grades\n",
        "  * the mean, median, mode, and standard deviation of the grades\n"
      ]
    },
    {
      "cell_type": "code",
      "metadata": {
        "id": "PodD-9PvxF_U"
      },
      "source": [
        "### CODE HERE ###\n",
        "def get_grades(grade_list):\n",
        "  prlm = grade_list[\"Prelim_Grade\"]\n",
        "  mdtrm = grade_list[\"Midterm_Grade\"]\n",
        "  fnls = grade_list[\"Final_Grade\"]\n",
        "  for record in grade_list[\"Last_Name\"]:\n",
        "    sem_grade = (prlm*0.3)+(mdtrm*0.3)+(fnls*0.4)\n",
        "    grade_list['Semestral Grade']=sem_grade\n",
        "  return grade_list\n"
      ],
      "execution_count": null,
      "outputs": []
    },
    {
      "cell_type": "code",
      "metadata": {
        "colab": {
          "base_uri": "https://localhost:8080/",
          "height": 172
        },
        "id": "q1lpXXTOGV_h",
        "outputId": "3fc9f110-eb91-4b6d-8328-a629f1950a7c"
      },
      "source": [
        "get_grades(class_record_df)"
      ],
      "execution_count": null,
      "outputs": [
        {
          "output_type": "execute_result",
          "data": {
            "text/html": [
              "<div>\n",
              "<style scoped>\n",
              "    .dataframe tbody tr th:only-of-type {\n",
              "        vertical-align: middle;\n",
              "    }\n",
              "\n",
              "    .dataframe tbody tr th {\n",
              "        vertical-align: top;\n",
              "    }\n",
              "\n",
              "    .dataframe thead th {\n",
              "        text-align: right;\n",
              "    }\n",
              "</style>\n",
              "<table border=\"1\" class=\"dataframe\">\n",
              "  <thead>\n",
              "    <tr style=\"text-align: right;\">\n",
              "      <th></th>\n",
              "      <th>Student_Number</th>\n",
              "      <th>Last_Name</th>\n",
              "      <th>First_Name</th>\n",
              "      <th>Prelim_Grade</th>\n",
              "      <th>Midterm_Grade</th>\n",
              "      <th>Final_Grade</th>\n",
              "      <th>Semestral_grades</th>\n",
              "      <th>Semestral Grade</th>\n",
              "    </tr>\n",
              "  </thead>\n",
              "  <tbody>\n",
              "    <tr>\n",
              "      <th>0</th>\n",
              "      <td>201823121</td>\n",
              "      <td>Dusaran</td>\n",
              "      <td>Jeric</td>\n",
              "      <td>80</td>\n",
              "      <td>85</td>\n",
              "      <td>90</td>\n",
              "      <td>85.5</td>\n",
              "      <td>85.5</td>\n",
              "    </tr>\n",
              "    <tr>\n",
              "      <th>1</th>\n",
              "      <td>201811123</td>\n",
              "      <td>Lacsi</td>\n",
              "      <td>Humbert</td>\n",
              "      <td>85</td>\n",
              "      <td>75</td>\n",
              "      <td>95</td>\n",
              "      <td>86.0</td>\n",
              "      <td>86.0</td>\n",
              "    </tr>\n",
              "    <tr>\n",
              "      <th>2</th>\n",
              "      <td>201822234</td>\n",
              "      <td>Manalo</td>\n",
              "      <td>Airon</td>\n",
              "      <td>80</td>\n",
              "      <td>80</td>\n",
              "      <td>90</td>\n",
              "      <td>84.0</td>\n",
              "      <td>84.0</td>\n",
              "    </tr>\n",
              "    <tr>\n",
              "      <th>3</th>\n",
              "      <td>201812345</td>\n",
              "      <td>Garcia</td>\n",
              "      <td>Christian</td>\n",
              "      <td>95</td>\n",
              "      <td>85</td>\n",
              "      <td>95</td>\n",
              "      <td>92.0</td>\n",
              "      <td>92.0</td>\n",
              "    </tr>\n",
              "  </tbody>\n",
              "</table>\n",
              "</div>"
            ],
            "text/plain": [
              "   Student_Number Last_Name  ... Semestral_grades  Semestral Grade\n",
              "0       201823121   Dusaran  ...             85.5             85.5\n",
              "1       201811123     Lacsi  ...             86.0             86.0\n",
              "2       201822234    Manalo  ...             84.0             84.0\n",
              "3       201812345    Garcia  ...             92.0             92.0\n",
              "\n",
              "[4 rows x 8 columns]"
            ]
          },
          "metadata": {},
          "execution_count": 221
        }
      ]
    },
    {
      "cell_type": "code",
      "metadata": {
        "colab": {
          "base_uri": "https://localhost:8080/",
          "height": 142
        },
        "id": "Fb5hxb465p8u",
        "outputId": "4d034c34-7a54-43f1-c4d4-5ab7ba89b112"
      },
      "source": [
        "def get_stats(grade_list):\n",
        "  lowest = grade_list[['Prelim_Grade','Midterm_Grade','Final_Grade']].min()\n",
        "  highest = grade_list[['Prelim_Grade','Midterm_Grade','Final_Grade']].max()\n",
        "  mean = grade_list[['Prelim_Grade','Midterm_Grade','Final_Grade']].mean()\n",
        "  median = grade_list[['Prelim_Grade','Midterm_Grade','Final_Grade']].median()\n",
        "  std = grade_list[['Prelim_Grade','Midterm_Grade','Final_Grade']].std()\n",
        "  stats = list(zip(lowest,highest,mean,median,std))\n",
        "  stats_df = pd.DataFrame(stats, columns = ['Lowest','Highest','Mean','Median','std'])\n",
        "  return pd.DataFrame(stats_df)\n",
        "get_stats(class_record_df)\n"
      ],
      "execution_count": null,
      "outputs": [
        {
          "output_type": "execute_result",
          "data": {
            "text/html": [
              "<div>\n",
              "<style scoped>\n",
              "    .dataframe tbody tr th:only-of-type {\n",
              "        vertical-align: middle;\n",
              "    }\n",
              "\n",
              "    .dataframe tbody tr th {\n",
              "        vertical-align: top;\n",
              "    }\n",
              "\n",
              "    .dataframe thead th {\n",
              "        text-align: right;\n",
              "    }\n",
              "</style>\n",
              "<table border=\"1\" class=\"dataframe\">\n",
              "  <thead>\n",
              "    <tr style=\"text-align: right;\">\n",
              "      <th></th>\n",
              "      <th>Lowest</th>\n",
              "      <th>Highest</th>\n",
              "      <th>Mean</th>\n",
              "      <th>Median</th>\n",
              "      <th>std</th>\n",
              "    </tr>\n",
              "  </thead>\n",
              "  <tbody>\n",
              "    <tr>\n",
              "      <th>0</th>\n",
              "      <td>80</td>\n",
              "      <td>95</td>\n",
              "      <td>85.00</td>\n",
              "      <td>82.5</td>\n",
              "      <td>7.071068</td>\n",
              "    </tr>\n",
              "    <tr>\n",
              "      <th>1</th>\n",
              "      <td>75</td>\n",
              "      <td>85</td>\n",
              "      <td>81.25</td>\n",
              "      <td>82.5</td>\n",
              "      <td>4.787136</td>\n",
              "    </tr>\n",
              "    <tr>\n",
              "      <th>2</th>\n",
              "      <td>90</td>\n",
              "      <td>95</td>\n",
              "      <td>92.50</td>\n",
              "      <td>92.5</td>\n",
              "      <td>2.886751</td>\n",
              "    </tr>\n",
              "  </tbody>\n",
              "</table>\n",
              "</div>"
            ],
            "text/plain": [
              "   Lowest  Highest   Mean  Median       std\n",
              "0      80       95  85.00    82.5  7.071068\n",
              "1      75       85  81.25    82.5  4.787136\n",
              "2      90       95  92.50    92.5  2.886751"
            ]
          },
          "metadata": {},
          "execution_count": 270
        }
      ]
    },
    {
      "cell_type": "code",
      "metadata": {
        "colab": {
          "base_uri": "https://localhost:8080/"
        },
        "id": "kaOtzV-MLKuv",
        "outputId": "2afd3abf-444d-45a9-d794-fbabc7cd8ca1"
      },
      "source": [
        "## Prelim Mode ##\n",
        "stats.mode(prlm_grd)\n"
      ],
      "execution_count": null,
      "outputs": [
        {
          "output_type": "execute_result",
          "data": {
            "text/plain": [
              "ModeResult(mode=array([80]), count=array([2]))"
            ]
          },
          "metadata": {},
          "execution_count": 262
        }
      ]
    },
    {
      "cell_type": "code",
      "metadata": {
        "colab": {
          "base_uri": "https://localhost:8080/"
        },
        "id": "IFWbdg-iP2rG",
        "outputId": "e6a1f22f-9b3e-45b8-9d75-bba95c342335"
      },
      "source": [
        "## Midterm Mode ##\n",
        "stats.mode(mdtrm_grd)"
      ],
      "execution_count": null,
      "outputs": [
        {
          "output_type": "execute_result",
          "data": {
            "text/plain": [
              "ModeResult(mode=array([85]), count=array([2]))"
            ]
          },
          "metadata": {},
          "execution_count": 263
        }
      ]
    },
    {
      "cell_type": "code",
      "metadata": {
        "colab": {
          "base_uri": "https://localhost:8080/"
        },
        "id": "MgZSfcS5P8Jb",
        "outputId": "d11bfe06-e0e9-41b1-c5d1-20506e25d6e3"
      },
      "source": [
        "## Finals Mode ##\n",
        "stats.mode(fnls_grd)"
      ],
      "execution_count": null,
      "outputs": [
        {
          "output_type": "execute_result",
          "data": {
            "text/plain": [
              "ModeResult(mode=array([90]), count=array([2]))"
            ]
          },
          "metadata": {},
          "execution_count": 264
        }
      ]
    },
    {
      "cell_type": "markdown",
      "metadata": {
        "id": "NCPH2Iy_s6Ox"
      },
      "source": [
        "## 1.2 Code Optimization\n",
        "\n",
        "When we consider your code to be part of production or for customer delivery we must consider that they are not laggy nor too space-consuming for devices. This is a common practice in data science and machine learning wherein training algorithms take up resources from computers or considering the space a model consumes at your workspace or your customer’s device."
      ]
    },
    {
      "cell_type": "markdown",
      "metadata": {
        "id": "IfNVUwU5tApZ"
      },
      "source": [
        "### *Space Complexity*\n",
        "\n",
        "This would specifically refer to your choice of data structures. This is a job for reviewing data structures and algorithms for space complexity. Although in Python for AI we are looking into more data structures like matrices and data frames."
      ]
    },
    {
      "cell_type": "code",
      "metadata": {
        "id": "viiNhOeaKv8V"
      },
      "source": [
        "'''\n",
        "    CASE 3: Class management.\n",
        "\n",
        "    For this cell we are going to look into optimizing functions for the class.\n",
        "    This includes finding unique data and similar data amnong class materials.\n",
        "'''\n",
        "## The following code will optimize how to efficiently store data into memory\n",
        "enrollees_2016_2020 = ['15022', '18302', '8845', '9203', '10035']\n",
        "enrollees_2016_2020 = [15022, 18302, 8845, 9203, 10035]"
      ],
      "execution_count": null,
      "outputs": []
    },
    {
      "cell_type": "code",
      "metadata": {
        "colab": {
          "base_uri": "https://localhost:8080/"
        },
        "id": "_qU1hQQKDbZj",
        "outputId": "0832d286-9566-49cc-bf19-2f4ddfc53b90"
      },
      "source": [
        "img1 = [[125.4543, 254.0001], [64.2132, 84.5336]]\n",
        "img1"
      ],
      "execution_count": null,
      "outputs": [
        {
          "output_type": "execute_result",
          "data": {
            "text/plain": [
              "[[125.4543, 254.0001], [64.2132, 84.5336]]"
            ]
          },
          "metadata": {},
          "execution_count": 12
        }
      ]
    },
    {
      "cell_type": "code",
      "metadata": {
        "colab": {
          "base_uri": "https://localhost:8080/"
        },
        "id": "JV2hWEmcEMyw",
        "outputId": "3d345730-2b22-4c9a-fa8c-ec3223cfd9c2"
      },
      "source": [
        "import numpy as np\n",
        "img1_vector = np.array(img1)\n",
        "img1_vector"
      ],
      "execution_count": null,
      "outputs": [
        {
          "output_type": "execute_result",
          "data": {
            "text/plain": [
              "array([[125.4543, 254.0001],\n",
              "       [ 64.2132,  84.5336]])"
            ]
          },
          "metadata": {},
          "execution_count": 13
        }
      ]
    },
    {
      "cell_type": "code",
      "metadata": {
        "colab": {
          "base_uri": "https://localhost:8080/"
        },
        "id": "8b4cIeOgERdo",
        "outputId": "7a00779f-6ec3-4e5c-ff84-15ee37b2f56b"
      },
      "source": [
        "img1_quantized = np.array(img1_vector, dtype='int32')\n",
        "img1_quantized"
      ],
      "execution_count": null,
      "outputs": [
        {
          "output_type": "execute_result",
          "data": {
            "text/plain": [
              "array([[125, 254],\n",
              "       [ 64,  84]], dtype=int32)"
            ]
          },
          "metadata": {},
          "execution_count": 15
        }
      ]
    },
    {
      "cell_type": "markdown",
      "metadata": {
        "id": "NY2uePQzs9gZ"
      },
      "source": [
        "### *Time Complexity*\n",
        "\n",
        "If you would recall back in your data structures and algorithms this pertains to the Big-O notation. However, in this notebook, we’ll look into specific and intuitive samples of time complexity. We are going to look at specific AI use such as the concept of vectorization."
      ]
    },
    {
      "cell_type": "code",
      "metadata": {
        "id": "5WlqePejs10Z"
      },
      "source": [
        "## The following code wil try to optimize getting unique elements from the given\n",
        "## list of class codes\n",
        "\n",
        "curr_2018_courses = ['220', '270', '318', '450', '101', '768', '223L', '223',\n",
        "                     '727', '418', '673', '672', '450', '124', '771', '654',\n",
        "                     '231', '768', '768', '224', '654', '673']\n",
        "### print an array that shows only the unique elements\n",
        "### Code from Geeks for Geeks\n",
        "def unique(arr):\n",
        "     # initialize a null list\n",
        "    unique_list = []\n",
        "     \n",
        "    # traverse for all elements\n",
        "    for item in arr:\n",
        "        # check if exists in unique_list or not\n",
        "        if item not in unique_list:\n",
        "            unique_list.append(item)\n",
        "    return sorted(unique_list)\n",
        "\n",
        "unique(curr_2018_courses)  "
      ],
      "execution_count": null,
      "outputs": []
    },
    {
      "cell_type": "code",
      "metadata": {
        "id": "G0bFhzBfGz75"
      },
      "source": [
        "### Optimized way\n",
        "sorted(list(set(curr_2018_courses)))"
      ],
      "execution_count": null,
      "outputs": []
    },
    {
      "cell_type": "code",
      "metadata": {
        "colab": {
          "base_uri": "https://localhost:8080/"
        },
        "id": "8qQsScWhUybw",
        "outputId": "a3f3815d-e27f-491a-ec7a-6ec794feb14a"
      },
      "source": [
        "### Optimizing Functions\n",
        "import math\n",
        "def get_floor_binlog(num):\n",
        "  return math.floor(math.log2(num))\n",
        "get_floor_binlog(31)"
      ],
      "execution_count": null,
      "outputs": [
        {
          "output_type": "execute_result",
          "data": {
            "text/plain": [
              "4"
            ]
          },
          "metadata": {},
          "execution_count": 3
        }
      ]
    },
    {
      "cell_type": "code",
      "metadata": {
        "colab": {
          "base_uri": "https://localhost:8080/"
        },
        "id": "6atMBkMBWRP7",
        "outputId": "4fb52316-6410-4fed-8738-d1997d25ac2e"
      },
      "source": [
        "### Lambda Functions\n",
        "binlog = lambda num: math.floor(math.log2(num))\n",
        "binlog(31)"
      ],
      "execution_count": null,
      "outputs": [
        {
          "output_type": "execute_result",
          "data": {
            "text/plain": [
              "4"
            ]
          },
          "metadata": {},
          "execution_count": 16
        }
      ]
    },
    {
      "cell_type": "code",
      "metadata": {
        "id": "ugT6Y-zBWjqD"
      },
      "source": [
        "### Optimizing Booleans\n",
        "val = 1\n",
        "if val%2 == 0:\n",
        "  val = 1\n",
        "else:\n",
        "  val = 2"
      ],
      "execution_count": null,
      "outputs": []
    },
    {
      "cell_type": "code",
      "metadata": {
        "colab": {
          "base_uri": "https://localhost:8080/"
        },
        "id": "uH-xQX6zUyqK",
        "outputId": "3d8abbc8-1c59-481d-b2fe-9aaf1aa4febf"
      },
      "source": [
        "### Singe-line Boolean Statemets\n",
        "val = 1\n",
        "val = 1 if val%2 == 0 else 2\n",
        "val"
      ],
      "execution_count": null,
      "outputs": [
        {
          "output_type": "execute_result",
          "data": {
            "text/plain": [
              "2"
            ]
          },
          "metadata": {},
          "execution_count": 18
        }
      ]
    },
    {
      "cell_type": "code",
      "metadata": {
        "colab": {
          "base_uri": "https://localhost:8080/"
        },
        "id": "WTU6lB6CXCIQ",
        "outputId": "a1f0f065-58b4-45f9-ac5f-282e8ac4d615"
      },
      "source": [
        "### Optimizing Iterations\n",
        "bits = [1,0,1,1,1]\n",
        "not_bits = []\n",
        "for bit in bits:\n",
        "  not_bits.append(int(not(bit)))\n",
        "print(not_bits)"
      ],
      "execution_count": null,
      "outputs": [
        {
          "output_type": "stream",
          "text": [
            "[0, 1, 0, 0, 0]\n"
          ],
          "name": "stdout"
        }
      ]
    },
    {
      "cell_type": "code",
      "metadata": {
        "colab": {
          "base_uri": "https://localhost:8080/"
        },
        "id": "g9Z2mzLzVNVi",
        "outputId": "aaedbfc7-4626-4be2-828b-ce4a2bfc91df"
      },
      "source": [
        "### List Comprehensions\n",
        "bits = [1,0,1,0,1]\n",
        "not_bits = [int(not(bit)) for bit in bits]\n",
        "not_bits"
      ],
      "execution_count": null,
      "outputs": [
        {
          "output_type": "execute_result",
          "data": {
            "text/plain": [
              "[0, 1, 0, 1, 0]"
            ]
          },
          "metadata": {},
          "execution_count": 11
        }
      ]
    },
    {
      "cell_type": "code",
      "metadata": {
        "colab": {
          "base_uri": "https://localhost:8080/"
        },
        "id": "W9y04uVjYInF",
        "outputId": "ee35af7e-9895-4aef-b67e-a52ce032946a"
      },
      "source": [
        "### A Networks Example\n",
        "def get_floor_binlog(num):\n",
        "  return math.floor(math.log2(num))\n",
        "def get_subnet_bits(user_count):\n",
        "  \n",
        "  floor_bin = get_floor_binlog(user_count) # gets the floor bits from \n",
        "                                           # the user count\n",
        "  if floor_bin == 0: # assign 1 if bit count is 0.\n",
        "    floor_bin = 1\n",
        "  bits = [] # instantiate the bit container\n",
        "  for i in range(floor_bin): # add a bit to the list of bits according to the\n",
        "                             # bit count.\n",
        "    bits.append(1) \n",
        "  return bits\n",
        "\n",
        "get_subnet_bits(32)"
      ],
      "execution_count": null,
      "outputs": [
        {
          "output_type": "execute_result",
          "data": {
            "text/plain": [
              "[1, 1, 1, 1, 1]"
            ]
          },
          "metadata": {},
          "execution_count": 19
        }
      ]
    },
    {
      "cell_type": "code",
      "metadata": {
        "colab": {
          "base_uri": "https://localhost:8080/"
        },
        "id": "c1U3rj0iZvx5",
        "outputId": "1270579b-fd0a-4582-e504-e6c66099c823"
      },
      "source": [
        "#### An Optimized Networks Example\n",
        "floor_bin = lambda num: math.floor(math.log2(num))\n",
        "\n",
        "def get_subnet_bits(user_count):\n",
        "  \n",
        "  nbits = floor_bin(user_count) # gets the floor bits from the user count\n",
        "  nbits = 1 if nbits==0 else nbits # assign 1 if bit count is 0.\n",
        "  bits = [1 for i in range(nbits)] # add a bit to the list of bits according \n",
        "                                   # to the bit count.\n",
        "  return bits\n",
        "\n",
        "get_subnet_bits(32)"
      ],
      "execution_count": null,
      "outputs": [
        {
          "output_type": "execute_result",
          "data": {
            "text/plain": [
              "[1, 1, 1, 1, 1]"
            ]
          },
          "metadata": {},
          "execution_count": 20
        }
      ]
    },
    {
      "cell_type": "code",
      "metadata": {
        "id": "COZLgumcIJ2u"
      },
      "source": [
        "## The following code wil try to optimize solving for the inner product of two\n",
        "## lists\n",
        "vectA = [1,2,3,1,-1,2]\n",
        "vectB = [-1,4,5,3,2,0]"
      ],
      "execution_count": null,
      "outputs": []
    },
    {
      "cell_type": "code",
      "metadata": {
        "colab": {
          "base_uri": "https://localhost:8080/"
        },
        "id": "8490guPfF1iy",
        "outputId": "37aefb51-a3fa-47ff-f716-bf012eb1b0b5"
      },
      "source": [
        "def inner_product(vect1, vect2):\n",
        "  result = 0 \n",
        "  for va,vb in zip(vectA, vectB):\n",
        "    result += va*vb\n",
        "  return result\n",
        "inner_product(vectA, vectB)"
      ],
      "execution_count": null,
      "outputs": [
        {
          "output_type": "execute_result",
          "data": {
            "text/plain": [
              "23"
            ]
          },
          "metadata": {},
          "execution_count": 36
        }
      ]
    },
    {
      "cell_type": "code",
      "metadata": {
        "colab": {
          "base_uri": "https://localhost:8080/"
        },
        "id": "qiNiZnFQJcC5",
        "outputId": "720628dc-40fa-451b-884a-602950200d85"
      },
      "source": [
        "## Optimized method\n",
        "np.array(vectA) @ np.array(vectB) "
      ],
      "execution_count": null,
      "outputs": [
        {
          "output_type": "execute_result",
          "data": {
            "text/plain": [
              "23"
            ]
          },
          "metadata": {},
          "execution_count": 37
        }
      ]
    },
    {
      "cell_type": "markdown",
      "metadata": {
        "id": "23uTdW9eTTsC"
      },
      "source": [
        "### Task 3: Advanced Class Functions\n",
        "1. Optimize `get_grades()` by eliminating for loops in your function.\n",
        "2. Create a function named `get_similar_students()`\n",
        "  \n",
        "  `inputs`: two (2) class `DataFrames`\n",
        "  \n",
        "  `outputs`: list of common student numbers.\n",
        "\n",
        "  *Note*: The function should not contain iterative code blocks (i.e. `for` or `while` loops, or list comprehension)"
      ]
    },
    {
      "cell_type": "code",
      "metadata": {
        "id": "nGO2PPWcRTV7",
        "colab": {
          "base_uri": "https://localhost:8080/",
          "height": 175
        },
        "outputId": "502b6db0-f677-4a0d-8592-846678a986c2"
      },
      "source": [
        "### CODE HERE ###\n",
        "def get_grades(grade_list):\n",
        "  grade_list[\"Semestral_grades\"]=grade_list['Prelim_Grade']*0.3+grade_list['Midterm_Grade']*0.3+grade_list['Final_Grade']*0.4\n",
        "  return class_record_df\n",
        "get_grades(class_record_df)"
      ],
      "execution_count": 34,
      "outputs": [
        {
          "output_type": "execute_result",
          "data": {
            "text/html": [
              "<div>\n",
              "<style scoped>\n",
              "    .dataframe tbody tr th:only-of-type {\n",
              "        vertical-align: middle;\n",
              "    }\n",
              "\n",
              "    .dataframe tbody tr th {\n",
              "        vertical-align: top;\n",
              "    }\n",
              "\n",
              "    .dataframe thead th {\n",
              "        text-align: right;\n",
              "    }\n",
              "</style>\n",
              "<table border=\"1\" class=\"dataframe\">\n",
              "  <thead>\n",
              "    <tr style=\"text-align: right;\">\n",
              "      <th></th>\n",
              "      <th>Student_Number</th>\n",
              "      <th>Last_Name</th>\n",
              "      <th>First_Name</th>\n",
              "      <th>Prelim_Grade</th>\n",
              "      <th>Midterm_Grade</th>\n",
              "      <th>Final_Grade</th>\n",
              "      <th>Semestral_grades</th>\n",
              "    </tr>\n",
              "  </thead>\n",
              "  <tbody>\n",
              "    <tr>\n",
              "      <th>0</th>\n",
              "      <td>201823121</td>\n",
              "      <td>Dusaran</td>\n",
              "      <td>Jeric</td>\n",
              "      <td>80</td>\n",
              "      <td>85</td>\n",
              "      <td>90</td>\n",
              "      <td>85.5</td>\n",
              "    </tr>\n",
              "    <tr>\n",
              "      <th>1</th>\n",
              "      <td>201811123</td>\n",
              "      <td>Lacsi</td>\n",
              "      <td>Humbert</td>\n",
              "      <td>85</td>\n",
              "      <td>75</td>\n",
              "      <td>95</td>\n",
              "      <td>86.0</td>\n",
              "    </tr>\n",
              "    <tr>\n",
              "      <th>2</th>\n",
              "      <td>201822234</td>\n",
              "      <td>Manalo</td>\n",
              "      <td>Airon</td>\n",
              "      <td>80</td>\n",
              "      <td>80</td>\n",
              "      <td>90</td>\n",
              "      <td>84.0</td>\n",
              "    </tr>\n",
              "    <tr>\n",
              "      <th>3</th>\n",
              "      <td>201812345</td>\n",
              "      <td>Garcia</td>\n",
              "      <td>Christian</td>\n",
              "      <td>95</td>\n",
              "      <td>85</td>\n",
              "      <td>95</td>\n",
              "      <td>92.0</td>\n",
              "    </tr>\n",
              "  </tbody>\n",
              "</table>\n",
              "</div>"
            ],
            "text/plain": [
              "   Student_Number Last_Name  ... Final_Grade  Semestral_grades\n",
              "0       201823121   Dusaran  ...          90              85.5\n",
              "1       201811123     Lacsi  ...          95              86.0\n",
              "2       201822234    Manalo  ...          90              84.0\n",
              "3       201812345    Garcia  ...          95              92.0\n",
              "\n",
              "[4 rows x 7 columns]"
            ]
          },
          "metadata": {},
          "execution_count": 34
        }
      ]
    },
    {
      "cell_type": "code",
      "metadata": {
        "id": "mOAOoGBlKaQh"
      },
      "source": [
        "def get_similar_students(grade_list, grade_list1):\n",
        "  merge = pd.merge(grade_list, grade_list1, left_on='Student_Number', right_on='Student_Number', how='inner')\n",
        "  stdnt_number_List = merge['Student_Number'] \n",
        "  return stdnt_number_List"
      ],
      "execution_count": 35,
      "outputs": []
    },
    {
      "cell_type": "code",
      "metadata": {
        "colab": {
          "base_uri": "https://localhost:8080/"
        },
        "id": "NSoBEeSeN8Jd",
        "outputId": "31e5c342-dd48-4c28-aee2-24d0c404a48b"
      },
      "source": [
        "get_similar_students(get_grades(class_record_df),get_grades(class_record_1_df))"
      ],
      "execution_count": null,
      "outputs": [
        {
          "output_type": "execute_result",
          "data": {
            "text/plain": [
              "0    201823121\n",
              "1    201811123\n",
              "2    201822234\n",
              "3    201812345\n",
              "Name: Student_Number, dtype: int64"
            ]
          },
          "metadata": {},
          "execution_count": 266
        }
      ]
    },
    {
      "cell_type": "markdown",
      "metadata": {
        "id": "mJoJ5ZjbKWFt"
      },
      "source": [
        "# 2. Some Object-Oriented Programming Concepts\n",
        "\n",
        "Object-oriented programming (OOP) is undoubtedly a foundational programming course for Software Engineering. The idea of OOP is to transform procedural programming into a more modular programming style. In this section, we are going to review the fundamentals of OOP such as objects, classes, and encapsulation."
      ]
    },
    {
      "cell_type": "markdown",
      "metadata": {
        "id": "5yuIoWHU1_0v"
      },
      "source": [
        "## 2.1 Objects and Classes\n",
        "Learning about objects and classes is one of the foundations of OOP. Think of objects as any object that you could see. Like cars, shirts, humans, professions, even your favorite anime characters. Classes on the other hand are the categories or concepts of those things. In this section, we’ll review how to instantiate classes and objects."
      ]
    },
    {
      "cell_type": "markdown",
      "metadata": {
        "id": "90KYzkth2VLX"
      },
      "source": [
        "### *Attributes and Methods*\n",
        "Just like any object are just things we could describe them or they could have what we call descriptions or characteristics. In OOP we call these attributes. Attributes can be any value representing an aspect of the object which is inclusive to its concept of class. For example, a tree (object)  under the category of plants (class) could have attributes such as its name, age, height, or even the amount of oxygen it produces.\n",
        "\n",
        "Methods, on the other hand, are interactions that could be done by the object or could be done onto the object. For example for our tree, it could grow, photosynthesize, absorb water, or we could harvest its fruits. In this example, we can try to review the attributes and methods of a class or object."
      ]
    },
    {
      "cell_type": "code",
      "metadata": {
        "id": "xguJ6ns5pVfc"
      },
      "source": [
        "'''\n",
        "    CASE 4: Class of Classes\n",
        "\n",
        "    For this section we are going to look at implementing the fundamentals of\n",
        "    OOP for our class routines.\n",
        "'''\n",
        "class Section:\n",
        "  def __init__(self, max_pop, class_list):\n",
        "    self.max_pop = max_pop\n",
        "    self.class_list = class_list\n",
        "  \n",
        "  def count_class(self):\n",
        "    return len(self.class_list)\n",
        "\n",
        "  def is_overloaded(self):\n",
        "    is_overload = True if self.count_class() > self.max_pop else False\n",
        "    return is_overload"
      ],
      "execution_count": null,
      "outputs": []
    },
    {
      "cell_type": "markdown",
      "metadata": {
        "id": "mF2MlzFv2ZQw"
      },
      "source": [
        "### *Class Instantiation*\n",
        "Now that we have created our class let’s try to put them to use in code. To use classes and objects in your code we are going to instantiate them. There are several ways to instantiate an object and we will be trying them out in this section."
      ]
    },
    {
      "cell_type": "code",
      "metadata": {
        "id": "8kJC6vsWpTET",
        "colab": {
          "base_uri": "https://localhost:8080/"
        },
        "outputId": "841de3f3-e223-40cd-9203-6ca36bf5a69c"
      },
      "source": [
        "CpE_58053 = Section(40, ['John'])\n",
        "print(CpE_58053.is_overloaded())\n",
        "print(CpE_58053.count_class())"
      ],
      "execution_count": null,
      "outputs": [
        {
          "output_type": "execute_result",
          "data": {
            "text/plain": [
              "False"
            ]
          },
          "metadata": {},
          "execution_count": 28
        }
      ]
    },
    {
      "cell_type": "markdown",
      "metadata": {
        "id": "mhDqZEML3hRf"
      },
      "source": [
        "## 2.2 Encapsulation\n",
        "The idea of incapsulation is to restrict users or developers from using or tampering with the internal attributes or methods of a class. This would be similar to using the private or public property in Java, C++, or C#. Python also enforces this in programming but in a different way. \n",
        "\n",
        "Not every procedure or transaction in a class should be shown to the users. We used the concept of encapsulation to solve this. In Python, all attributes, variables, or methods are public by default. In this section, we will see how to make methods and attributes private."
      ]
    },
    {
      "cell_type": "code",
      "metadata": {
        "id": "uGGueFuLpSDk"
      },
      "source": [
        "class Section:\n",
        "  def __init__(self, max_pop, class_list):\n",
        "    self.max_pop = max_pop\n",
        "    self.class_list = class_list\n",
        "  \n",
        "  def __count_class(self):\n",
        "    return len(self.class_list)\n",
        "\n",
        "  def is_overloaded(self):\n",
        "    is_overload = True if self.__count_class() > self.max_pop else False\n",
        "    return is_overload"
      ],
      "execution_count": null,
      "outputs": []
    },
    {
      "cell_type": "code",
      "metadata": {
        "id": "cJai7CiAeZPj"
      },
      "source": [
        "CpE_58054 = Section(2, ['Jeanne', 'Pietro', 'Dude'])\n",
        "print(CpE_58054.is_overloaded())\n",
        "print(CpE_58054.__count_class())"
      ],
      "execution_count": null,
      "outputs": []
    },
    {
      "cell_type": "markdown",
      "metadata": {
        "id": "Kp9E7V_ZgNmz"
      },
      "source": [
        "### Task 4: Class of Classes\n",
        "1. Modify the `class` `Section` and integrate the functions from Tasks 1 to 3 as its methods. Make sure that the codes are optimized.\n",
        "2. Create a `method` named `get_failed()` wherein it will create a list of all the failed students in the class.\n",
        "3. Create a `method` named `fail_count()` wherein it will return the count of the failed students.\n",
        "\n",
        "** **Note:** due to data privacy, the data privacy office has mandated your code to print the names of the failed students as well as to mask the names of the students if their grades are also displayed."
      ]
    },
    {
      "cell_type": "code",
      "metadata": {
        "id": "vpDE-npFgNBe"
      },
      "source": [
        "### CODE HERE ###\n",
        "class Section:\n",
        "  def __init__(self,grade_list,grade_list1):\n",
        "    self.class_record = grade_list\n",
        "    self.class_record1 = grade_list1\n",
        "  \n",
        "  def get_grades(self):\n",
        "    self.class_record[\"Semestral_grades\"]=self.class_record['Prelim_Grade']*0.3+self.class_record['Midterm_Grade']*0.3+self.class_record['Final_Grade']*0.4\n",
        "    return self.class_record\n",
        "  \n",
        "  def get_stats(self):\n",
        "    lowest = self.class_record[['Prelim_Grade','Midterm_Grade','Final_Grade']].min()\n",
        "    highest = self.class_record[['Prelim_Grade','Midterm_Grade','Final_Grade']].max()\n",
        "    mean = self.class_record[['Prelim_Grade','Midterm_Grade','Final_Grade']].mean()\n",
        "    median = self.class_record[['Prelim_Grade','Midterm_Grade','Final_Grade']].median()\n",
        "    std = self.class_record[['Prelim_Grade','Midterm_Grade','Final_Grade']].std()\n",
        "    stats = self.class_record(zip(lowest,highest,mean,median,std))\n",
        "    self.stats_df = pd.DataFrame(stats, columns = ['Lowest','Highest','Mean','Median','Std'])\n",
        "    return pd.DataFrame(self.class_record_df)\n",
        "  \n",
        "  def get_similar_students(self):\n",
        "    merge = pd.merge(self.class_record, self.class_record1, left_on='Student_Number', right_on='Student_Number', how='inner')\n",
        "    stdnt_number_List = merge['Student_Number'] \n",
        "    return stdnt_number_List\n",
        "  \n",
        "  def get_failed_student(self):\n",
        "    failed = []\n",
        "    i=0\n",
        "    for grade in self.class_record[\"Semestral_grades\"]:\n",
        "      if grade < 70:\n",
        "        failed.append(self.class_record[\"First_Name\"][i]+\" \"+self.class_record[\"Last_Name\"][i])\n",
        "      i=i+1\n",
        "      return failed\n",
        "  \n",
        "  def fail_count(self):\n",
        "    failed = []\n",
        "    for grade in self.class_record[\"Semestral_grades\"]:\n",
        "      if grade < 70:\n",
        "        failed.append(grade)\n",
        "    print(\"Number of failed students: \", len(failed))"
      ],
      "execution_count": 123,
      "outputs": []
    },
    {
      "cell_type": "code",
      "metadata": {
        "colab": {
          "base_uri": "https://localhost:8080/",
          "height": 175
        },
        "id": "xwAZwp8TXeiO",
        "outputId": "ec8942bb-6c97-4920-ed09-8559a57557b2"
      },
      "source": [
        "section_class = Section(class_record_df, class_record_1_df)\n",
        "section_class.get_grades()"
      ],
      "execution_count": 124,
      "outputs": [
        {
          "output_type": "execute_result",
          "data": {
            "text/html": [
              "<div>\n",
              "<style scoped>\n",
              "    .dataframe tbody tr th:only-of-type {\n",
              "        vertical-align: middle;\n",
              "    }\n",
              "\n",
              "    .dataframe tbody tr th {\n",
              "        vertical-align: top;\n",
              "    }\n",
              "\n",
              "    .dataframe thead th {\n",
              "        text-align: right;\n",
              "    }\n",
              "</style>\n",
              "<table border=\"1\" class=\"dataframe\">\n",
              "  <thead>\n",
              "    <tr style=\"text-align: right;\">\n",
              "      <th></th>\n",
              "      <th>Student_Number</th>\n",
              "      <th>Last_Name</th>\n",
              "      <th>First_Name</th>\n",
              "      <th>Prelim_Grade</th>\n",
              "      <th>Midterm_Grade</th>\n",
              "      <th>Final_Grade</th>\n",
              "      <th>Semestral_grades</th>\n",
              "    </tr>\n",
              "  </thead>\n",
              "  <tbody>\n",
              "    <tr>\n",
              "      <th>0</th>\n",
              "      <td>201823121</td>\n",
              "      <td>Dusaran</td>\n",
              "      <td>Jeric</td>\n",
              "      <td>80</td>\n",
              "      <td>85</td>\n",
              "      <td>90</td>\n",
              "      <td>85.5</td>\n",
              "    </tr>\n",
              "    <tr>\n",
              "      <th>1</th>\n",
              "      <td>201811123</td>\n",
              "      <td>Lacsi</td>\n",
              "      <td>Humbert</td>\n",
              "      <td>85</td>\n",
              "      <td>75</td>\n",
              "      <td>95</td>\n",
              "      <td>86.0</td>\n",
              "    </tr>\n",
              "    <tr>\n",
              "      <th>2</th>\n",
              "      <td>201822234</td>\n",
              "      <td>Manalo</td>\n",
              "      <td>Airon</td>\n",
              "      <td>80</td>\n",
              "      <td>80</td>\n",
              "      <td>90</td>\n",
              "      <td>84.0</td>\n",
              "    </tr>\n",
              "    <tr>\n",
              "      <th>3</th>\n",
              "      <td>201812345</td>\n",
              "      <td>Garcia</td>\n",
              "      <td>Christian</td>\n",
              "      <td>95</td>\n",
              "      <td>85</td>\n",
              "      <td>95</td>\n",
              "      <td>92.0</td>\n",
              "    </tr>\n",
              "  </tbody>\n",
              "</table>\n",
              "</div>"
            ],
            "text/plain": [
              "   Student_Number Last_Name  ... Final_Grade  Semestral_grades\n",
              "0       201823121   Dusaran  ...          90              85.5\n",
              "1       201811123     Lacsi  ...          95              86.0\n",
              "2       201822234    Manalo  ...          90              84.0\n",
              "3       201812345    Garcia  ...          95              92.0\n",
              "\n",
              "[4 rows x 7 columns]"
            ]
          },
          "metadata": {},
          "execution_count": 124
        }
      ]
    },
    {
      "cell_type": "code",
      "metadata": {
        "id": "C-sG0P5Uc2BR",
        "outputId": "2b5bec42-3beb-4567-e8ca-7f50c1608096",
        "colab": {
          "base_uri": "https://localhost:8080/",
          "height": 298
        }
      },
      "source": [
        "section_class.get_stats()"
      ],
      "execution_count": 128,
      "outputs": [
        {
          "output_type": "error",
          "ename": "TypeError",
          "evalue": "ignored",
          "traceback": [
            "\u001b[0;31m---------------------------------------------------------------------------\u001b[0m",
            "\u001b[0;31mTypeError\u001b[0m                                 Traceback (most recent call last)",
            "\u001b[0;32m<ipython-input-128-f25b15a2e69b>\u001b[0m in \u001b[0;36m<module>\u001b[0;34m()\u001b[0m\n\u001b[0;32m----> 1\u001b[0;31m \u001b[0msection_class\u001b[0m\u001b[0;34m.\u001b[0m\u001b[0mget_stats\u001b[0m\u001b[0;34m(\u001b[0m\u001b[0;34m)\u001b[0m\u001b[0;34m\u001b[0m\u001b[0;34m\u001b[0m\u001b[0m\n\u001b[0m",
            "\u001b[0;32m<ipython-input-123-b21519e7836f>\u001b[0m in \u001b[0;36mget_stats\u001b[0;34m(self)\u001b[0m\n\u001b[1;32m     15\u001b[0m     \u001b[0mmedian\u001b[0m \u001b[0;34m=\u001b[0m \u001b[0mself\u001b[0m\u001b[0;34m.\u001b[0m\u001b[0mclass_record\u001b[0m\u001b[0;34m[\u001b[0m\u001b[0;34m[\u001b[0m\u001b[0;34m'Prelim_Grade'\u001b[0m\u001b[0;34m,\u001b[0m\u001b[0;34m'Midterm_Grade'\u001b[0m\u001b[0;34m,\u001b[0m\u001b[0;34m'Final_Grade'\u001b[0m\u001b[0;34m]\u001b[0m\u001b[0;34m]\u001b[0m\u001b[0;34m.\u001b[0m\u001b[0mmedian\u001b[0m\u001b[0;34m(\u001b[0m\u001b[0;34m)\u001b[0m\u001b[0;34m\u001b[0m\u001b[0;34m\u001b[0m\u001b[0m\n\u001b[1;32m     16\u001b[0m     \u001b[0mstd\u001b[0m \u001b[0;34m=\u001b[0m \u001b[0mself\u001b[0m\u001b[0;34m.\u001b[0m\u001b[0mclass_record\u001b[0m\u001b[0;34m[\u001b[0m\u001b[0;34m[\u001b[0m\u001b[0;34m'Prelim_Grade'\u001b[0m\u001b[0;34m,\u001b[0m\u001b[0;34m'Midterm_Grade'\u001b[0m\u001b[0;34m,\u001b[0m\u001b[0;34m'Final_Grade'\u001b[0m\u001b[0;34m]\u001b[0m\u001b[0;34m]\u001b[0m\u001b[0;34m.\u001b[0m\u001b[0mstd\u001b[0m\u001b[0;34m(\u001b[0m\u001b[0;34m)\u001b[0m\u001b[0;34m\u001b[0m\u001b[0;34m\u001b[0m\u001b[0m\n\u001b[0;32m---> 17\u001b[0;31m     \u001b[0mstats\u001b[0m \u001b[0;34m=\u001b[0m \u001b[0mself\u001b[0m\u001b[0;34m.\u001b[0m\u001b[0mclass_record\u001b[0m\u001b[0;34m(\u001b[0m\u001b[0mzip\u001b[0m\u001b[0;34m(\u001b[0m\u001b[0mlowest\u001b[0m\u001b[0;34m,\u001b[0m\u001b[0mhighest\u001b[0m\u001b[0;34m,\u001b[0m\u001b[0mmean\u001b[0m\u001b[0;34m,\u001b[0m\u001b[0mmedian\u001b[0m\u001b[0;34m,\u001b[0m\u001b[0mstd\u001b[0m\u001b[0;34m)\u001b[0m\u001b[0;34m)\u001b[0m\u001b[0;34m\u001b[0m\u001b[0;34m\u001b[0m\u001b[0m\n\u001b[0m\u001b[1;32m     18\u001b[0m     \u001b[0mself\u001b[0m\u001b[0;34m.\u001b[0m\u001b[0mstats_df\u001b[0m \u001b[0;34m=\u001b[0m \u001b[0mpd\u001b[0m\u001b[0;34m.\u001b[0m\u001b[0mDataFrame\u001b[0m\u001b[0;34m(\u001b[0m\u001b[0mstats\u001b[0m\u001b[0;34m,\u001b[0m \u001b[0mcolumns\u001b[0m \u001b[0;34m=\u001b[0m \u001b[0;34m[\u001b[0m\u001b[0;34m'Lowest'\u001b[0m\u001b[0;34m,\u001b[0m\u001b[0;34m'Highest'\u001b[0m\u001b[0;34m,\u001b[0m\u001b[0;34m'Mean'\u001b[0m\u001b[0;34m,\u001b[0m\u001b[0;34m'Median'\u001b[0m\u001b[0;34m,\u001b[0m\u001b[0;34m'Std'\u001b[0m\u001b[0;34m]\u001b[0m\u001b[0;34m)\u001b[0m\u001b[0;34m\u001b[0m\u001b[0;34m\u001b[0m\u001b[0m\n\u001b[1;32m     19\u001b[0m     \u001b[0;32mreturn\u001b[0m \u001b[0mpd\u001b[0m\u001b[0;34m.\u001b[0m\u001b[0mDataFrame\u001b[0m\u001b[0;34m(\u001b[0m\u001b[0mself\u001b[0m\u001b[0;34m.\u001b[0m\u001b[0mclass_record_df\u001b[0m\u001b[0;34m)\u001b[0m\u001b[0;34m\u001b[0m\u001b[0;34m\u001b[0m\u001b[0m\n",
            "\u001b[0;31mTypeError\u001b[0m: 'DataFrame' object is not callable"
          ]
        }
      ]
    },
    {
      "cell_type": "code",
      "metadata": {
        "colab": {
          "base_uri": "https://localhost:8080/"
        },
        "id": "HsIfjGgIbOap",
        "outputId": "b9fe8b9d-29b2-4cf7-b3d5-aef306b40bdb"
      },
      "source": [
        "section_class = Section(class_record_df, class_record_1_df)\n",
        "section_class.get_similar_students()"
      ],
      "execution_count": 126,
      "outputs": [
        {
          "output_type": "execute_result",
          "data": {
            "text/plain": [
              "0    201823121\n",
              "1    201811123\n",
              "2    201822234\n",
              "3    201812345\n",
              "Name: Student_Number, dtype: int64"
            ]
          },
          "metadata": {},
          "execution_count": 126
        }
      ]
    },
    {
      "cell_type": "code",
      "metadata": {
        "id": "2bOkhGCAfNYn",
        "outputId": "705f7da6-4d3d-469a-c037-ffc280154dde",
        "colab": {
          "base_uri": "https://localhost:8080/"
        }
      },
      "source": [
        "section_class = Section(class_record_df, class_record_1_df)\n",
        "section_class.get_failed_student()"
      ],
      "execution_count": 82,
      "outputs": [
        {
          "output_type": "execute_result",
          "data": {
            "text/plain": [
              "[]"
            ]
          },
          "metadata": {},
          "execution_count": 82
        }
      ]
    },
    {
      "cell_type": "code",
      "metadata": {
        "id": "J5hJjdOMfu94",
        "outputId": "d1333539-3567-477f-f0d5-fc1c50749698",
        "colab": {
          "base_uri": "https://localhost:8080/"
        }
      },
      "source": [
        "section_class.fail_count()"
      ],
      "execution_count": 89,
      "outputs": [
        {
          "output_type": "stream",
          "name": "stdout",
          "text": [
            "Number of failed students:  0\n"
          ]
        }
      ]
    },
    {
      "cell_type": "markdown",
      "metadata": {
        "id": "UA_rrYvEihQ9"
      },
      "source": [
        "\n",
        "\n",
        "---\n",
        "**END OF LABORATORY**\n",
        "\n",
        "---\n"
      ]
    }
  ]
}