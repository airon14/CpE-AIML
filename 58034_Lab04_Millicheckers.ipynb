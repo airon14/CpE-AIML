{
  "nbformat": 4,
  "nbformat_minor": 0,
  "metadata": {
    "colab": {
      "name": "58034_Lab04_Millicheckers",
      "provenance": [],
      "collapsed_sections": [],
      "include_colab_link": true
    },
    "kernelspec": {
      "name": "python3",
      "display_name": "Python 3"
    },
    "language_info": {
      "name": "python"
    }
  },
  "cells": [
    {
      "cell_type": "markdown",
      "metadata": {
        "id": "view-in-github",
        "colab_type": "text"
      },
      "source": [
        "<a href=\"https://colab.research.google.com/github/airon14/CpE-AIML/blob/main/58034_Lab04_Millicheckers.ipynb\" target=\"_parent\"><img src=\"https://colab.research.google.com/assets/colab-badge.svg\" alt=\"Open In Colab\"/></a>"
      ]
    },
    {
      "cell_type": "markdown",
      "metadata": {
        "id": "Q3Ki7Eix6HfL"
      },
      "source": [
        "# Topic 4 Lab 2: Multiple Linear Regression\n",
        "$_{\\text{©D.J. Lopez | 2021 | Fundamentals of Machine Learning}}$"
      ]
    },
    {
      "cell_type": "markdown",
      "metadata": {
        "id": "0cApvlgu6RXq"
      },
      "source": [
        "# Part 1\n",
        "Create a class named `MultipleLinearRegression()` wherein it can compute for the linear regression for multiple variables. The class will be required to have the following helper methods:\n",
        "> 1. `correlations(X, y)`\n",
        ">> input: 2 Rank 2 matrices\n",
        ">>\n",
        ">> output: A vector that contains the covariances of each feature to the target. \n",
        "> 3. `train(X, y)`\n",
        ">> input: 2 Rank 2 matrices\n",
        ">>\n",
        ">> output: the weights of the linear regressor. Use least squares method for this part. If the training fails due to the singularity of the matrix, raise a custom error pertaining to autocorrelation.\n",
        "> 4. `predict(x)`\n",
        ">> input: A testing vector. *Note*: this function should only accept vectors.\n",
        ">>\n",
        ">> output: the predicted value. Note: the procedure in solving for the predicted value should be vectorized. Use the concept of matrix multiplication. Do not forget to pad the matrix for the bias term.\n",
        "> 5. `evaluate()`\n",
        ">> input: *none*\n",
        ">>\n",
        ">> output: a `DataFrame` that displays the SST, SSR, SSE, MSE, RMSE, R-squared, and the Adjusted R-squared. Note: You should use the `predict()` method here.\n",
        "> 5. `visualize(testX, testY)`\n",
        ">> input: the dataset training sets and their ground truths.\n",
        ">>\n",
        ">> output: a visualization of the linear regressor over the testing dataset. It should be saved as a .jpg file into the running notebook with a dpi of 400."
      ]
    },
    {
      "cell_type": "code",
      "metadata": {
        "id": "0UUrD4zJ6EVj"
      },
      "source": [
        "import numpy as np\n",
        "import matplotlib.pyplot as plt\n",
        "import pandas as pd\n",
        "## No other packages or libraries can be added in this cell"
      ],
      "execution_count": 272,
      "outputs": []
    },
    {
      "cell_type": "code",
      "metadata": {
        "id": "6WzxCuxQ-xqb"
      },
      "source": [
        "### YOUR CODE HERE\n",
        "class MultipleLinearRegression():\n",
        "  def correlation(X, y):\n",
        "    global cor1, cor2\n",
        "    y = y.values\n",
        "    a = X.iloc[::,0].values\n",
        "    b = X.iloc[::,1].values\n",
        "    covar1 = np.mean((a-a.mean())*(y-y.mean()))\n",
        "    covar2 = np.mean((b-b.mean())*(y-y.mean()))\n",
        "    cor1 = covar1/(np.std(a)*np.std(y))\n",
        "    cor2 = covar2/(np.std(b)*np.std(y))\n",
        "    return print(\"R =\", cor2, cor1) \n",
        "\n",
        "  def train(X,y):\n",
        "    global w0,w1\n",
        "    y = y.values\n",
        "    a = X.iloc[::,0].values\n",
        "    b = X.iloc[::,1].values\n",
        "\n",
        "    r1 = np.corrcoef(a, y)[0,1]\n",
        "    r_sqrd = np.corrcoef(b, y)[0,1]\n",
        "     \n",
        "    w1 = r1*(np.std(y)/np.std(a))\n",
        "    w0 = y.mean() - w1 * a.mean()\n",
        "    w2 = y.mean() - r_sqrd * (np.std(y)/np.std(b))* b.mean()\n",
        "    return print(\"w0=\", w0, \"w1=\", w1, \"w2=\", w2)\n",
        "\n",
        "  def predict(X):\n",
        "    global predict1\n",
        "    a = X.iloc[::,0].values\n",
        "    predict1 = w0+w1*a\n",
        "    i = np.array(list(range(0, predict1.size)))\n",
        "    return print(\"y_h = \", predict, \", index = \", i) \n",
        "\n",
        "  def evaluate():\n",
        "    r_sqrd = 1 - (np.sum(np.square(predict1 - y[0:5]))/np.sum(np.square(y - y.mean())))\n",
        "    n = y.size \n",
        "    k = 1\n",
        "    dframe = {'SST': np.sum(np.square(y - y.mean())),\n",
        "         'SSR' : np.sum(np.square(predict1 - y.mean())),\n",
        "         'SSE' : np.sum(np.square(predict1 - y[0:5])),\n",
        "         'MSE' : np.mean(np.square(predict1 - y[0:5])),\n",
        "         'RMSE' : np.sqrt(np.mean(np.square(predict1 - y[0:5]))),\n",
        "         'R-squared' : r_sqrd,\n",
        "         'Adjusted R-squared' : 1 - ((1 - r_sqrd)*(n - 1)/(n-k-1))}\n",
        "    return dframe\n",
        "  \n",
        "  def visualize(X_test, y_test):\n",
        "    a = X_test.iloc[::,0].values\n",
        "    plt.figure(figsize=(10,10))\n",
        "    plt.grid()\n",
        "    plt.scatter(a, y_test)\n",
        "    plt.plot(a, predict1, color='blue')\n",
        "    return plt.show() \n",
        "\n",
        "  ### Program the required methods\n",
        "\n",
        "  ### You may add other helper functions in to make your code cleaner"
      ],
      "execution_count": 273,
      "outputs": []
    },
    {
      "cell_type": "code",
      "metadata": {
        "id": "7RB4i8MI96Ys"
      },
      "source": [
        "### Testing Data\n",
        "### DO NOT DELETE NOR MODIFY THIS CELL\n",
        "### Data can be retrieved from the git repo\n",
        "X = pd.read_csv(\"/content/real_estate_price_size_year.csv\") \n",
        "y = X['price']\n",
        "X = X.drop('price', axis=1)\n",
        "X_train, X_test = X.iloc[0:95], X.iloc[95:]\n",
        "y_train, y_test = y.iloc[0:95], y.iloc[95:]"
      ],
      "execution_count": 274,
      "outputs": []
    },
    {
      "cell_type": "code",
      "metadata": {
        "id": "zGY61WiZ-Ze5"
      },
      "source": [
        "## TEST #1 (Max pts: 5)\n",
        "## DO NOT DELETE NOR MODIFY THIS CELL\n",
        "regressor = MultipleLinearRegression"
      ],
      "execution_count": 275,
      "outputs": []
    },
    {
      "cell_type": "code",
      "metadata": {
        "id": "IKuHQIceA2D0",
        "colab": {
          "base_uri": "https://localhost:8080/"
        },
        "outputId": "88b6cd36-f5d2-45fa-cbf5-4d87b48875d0"
      },
      "source": [
        "## TEST #2 (Max pts: 10)\n",
        "## DO NOT DELETE NOR MODIFY THIS CELL\n",
        "R = regressor.correlation(X,y)\n",
        "R"
      ],
      "execution_count": 276,
      "outputs": [
        {
          "output_type": "stream",
          "name": "stdout",
          "text": [
            "R = 0.09301407775270563 0.86298272670127\n"
          ]
        }
      ]
    },
    {
      "cell_type": "markdown",
      "metadata": {
        "id": "iKPsTkB3BQuj"
      },
      "source": [
        "Expected output value:\n",
        "$$R = \\begin{bmatrix}0.09 & 0.86\\end{bmatrix}$$"
      ]
    },
    {
      "cell_type": "code",
      "metadata": {
        "id": "FlWF-AQEBnwL",
        "colab": {
          "base_uri": "https://localhost:8080/"
        },
        "outputId": "cebc2f54-1218-4a15-e693-0f03fa8a05ba"
      },
      "source": [
        "## TEST #3 (Max pts: 15)\n",
        "## DO NOT DELETE NOR MODIFY THIS CELL\n",
        "regressor.train(X_train,y_train)"
      ],
      "execution_count": 277,
      "outputs": [
        {
          "output_type": "stream",
          "name": "stdout",
          "text": [
            "w0= 97706.91683160246 w1= 228.80069224806263 w2= -3483566.2271210123\n"
          ]
        }
      ]
    },
    {
      "cell_type": "markdown",
      "metadata": {
        "id": "Jpl2Cz9SB6fz"
      },
      "source": [
        "Expected output value:\n",
        "$$\\omega = \\begin{bmatrix}\\omega_1 \\\\ \\omega_2 \\\\ \\omega_0\\end{bmatrix} = \\begin{bmatrix}232.56\\\\ 3010.09 \\\\ -5964175.03\\end{bmatrix}$$"
      ]
    },
    {
      "cell_type": "code",
      "metadata": {
        "id": "k9Q8e7JXC9U7",
        "colab": {
          "base_uri": "https://localhost:8080/"
        },
        "outputId": "f1b925f3-59d4-438e-b500-424c41515c5d"
      },
      "source": [
        "## TEST #4 (Max pts: 35)\n",
        "## DO NOT DELETE NOR MODIFY THIS CELL\n",
        "preds = regressor.predict(X_test)\n",
        "preds"
      ],
      "execution_count": 278,
      "outputs": [
        {
          "output_type": "stream",
          "name": "stdout",
          "text": [
            "y_h =  97935.71752385052 , index =  [0 1 2 3 4]\n"
          ]
        }
      ]
    },
    {
      "cell_type": "markdown",
      "metadata": {
        "id": "BdpaVDV3DBzr"
      },
      "source": [
        "Expected output value:\n",
        "$$\\hat{y}_i = \\begin{bmatrix} 210962.87 \\\\ 324367.17 \\\\ 424013.31 \\\\ 251928.01 \\\\ 238092.94 \\end{bmatrix}, i = \\{0,1,2,3,4\\}$$"
      ]
    },
    {
      "cell_type": "code",
      "metadata": {
        "id": "FUJuLe9pDArc",
        "colab": {
          "base_uri": "https://localhost:8080/"
        },
        "outputId": "46125806-2241-4b9a-c043-6bbfb1cf4008"
      },
      "source": [
        "# TEST #5 (Max pts: 25)\n",
        "## DO NOT DELETE NOR MODIFY THIS CELL\n",
        "model_stats = regressor.evaluate()\n",
        "model_stats"
      ],
      "execution_count": 279,
      "outputs": [
        {
          "output_type": "execute_result",
          "data": {
            "text/plain": [
              "{'Adjusted R-squared': 0.8262230365142222,\n",
              " 'MSE': 20221484552.267723,\n",
              " 'R-squared': 0.827978359377715,\n",
              " 'RMSE': 142202.26634012457,\n",
              " 'SSE': 101107422761.33862,\n",
              " 'SSR': 32216351588.103653,\n",
              " 'SST': 587759902740.0532}"
            ]
          },
          "metadata": {},
          "execution_count": 279
        }
      ]
    },
    {
      "cell_type": "code",
      "metadata": {
        "id": "J7XW0jArDrQs",
        "colab": {
          "base_uri": "https://localhost:8080/",
          "height": 592
        },
        "outputId": "60c3cc16-ea6d-47f3-8892-85fbfa74419c"
      },
      "source": [
        "## TEST #6 (Max pts: 15)\n",
        "## DO NOT DELETE NOR MODIFY THIS CELL\n",
        "regressor.visualize(X_test, y_test)"
      ],
      "execution_count": 280,
      "outputs": [
        {
          "output_type": "display_data",
          "data": {
            "image/png": "[encoded data removed]",
            "text/plain": [
              "<Figure size 720x720 with 1 Axes>"
            ]
          },
          "metadata": {
            "needs_background": "light"
          }
        }
      ]
    }
  ]
}